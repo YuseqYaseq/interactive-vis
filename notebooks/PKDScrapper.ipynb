{
 "cells": [
  {
   "cell_type": "code",
   "execution_count": 94,
   "metadata": {},
   "outputs": [],
   "source": [
    "from bs4 import BeautifulSoup\n",
    "\n",
    "with open('PKDwebsite.html', 'r', encoding=\"UTF-8\") as myfile:\n",
    "  data = myfile.read() \n",
    "soup = BeautifulSoup(data, 'html.parser')"
   ]
  },
  {
   "cell_type": "code",
   "execution_count": 95,
   "metadata": {
    "tags": [
     "outputPrepend"
    ]
   },
   "outputs": [],
   "source": [
    "dataDiv = soup.find(\"div\", {\"id\": \"pkdCatalog\"})\n",
    "\n",
    "pkdInfos = dataDiv.findAll(\"a\")\n",
    "pkdInfos = list(map(lambda x: x.contents[0], pkdInfos))"
   ]
  },
  {
   "cell_type": "code",
   "execution_count": 96,
   "metadata": {
    "tags": [
     "outputPrepend"
    ]
   },
   "outputs": [],
   "source": [
    "import re\n",
    "\n",
    "pkdString = \"#\".join(pkdInfos)\n",
    "\n",
    "sections = re.findall(\"Sekcja([A-Z]) - (.*?)#\", pkdString)\n",
    "\n",
    "divisions = re.findall(\"Dział ([0-9]+) - (.*?)#\", pkdString)\n",
    "\n",
    "groups = re.findall(\"Grupa ([0-9]+)\\.([0-9]+) - (.*?)#\", pkdString)\n",
    "\n",
    "classes = re.findall(\"Klasa ([0-9]+)\\.([0-9]+) - (.*?)#\", pkdString)\n",
    "classesExtra = re.findall(\"([0-9]+)\\.([0-9]+?)\\.Z\\s+(.*?)#\", pkdString)\n",
    "classes = list(set(classes) | set(classesExtra))"
   ]
  },
  {
   "cell_type": "code",
   "execution_count": 97,
   "metadata": {
    "tags": [
     "outputPrepend"
    ]
   },
   "outputs": [],
   "source": [
    "sections = list(map(lambda x: [x[0], x[1]], sections))\n",
    "\n",
    "divisions = list(map(lambda x: [int(x[0]), x[1]], divisions))\n",
    "\n",
    "groups = list(map(lambda x: [int(str(int(x[0])) + str(x[1])), x[2]], groups))\n",
    "\n",
    "classes = list(map(lambda x: [int(str(int(x[0])) + str(x[1])), x[2]], classes))"
   ]
  },
  {
   "cell_type": "code",
   "execution_count": 98,
   "metadata": {},
   "outputs": [],
   "source": [
    "import csv\n",
    "def writeToCsv(filename, columnname, data):\n",
    "    with open(filename, 'w', newline='', encoding=\"UTF-8\") as csvfile:\n",
    "        spamwriter = csv.writer(csvfile, delimiter=',', quoting=csv.QUOTE_NONNUMERIC)\n",
    "        spamwriter.writerow([\"pkdCode\", columnname])\n",
    "        for dataRow in data:\n",
    "            spamwriter.writerow(dataRow)\n",
    "\n",
    "writeToCsv(\"sections.csv\", \"section\", sections)\n",
    "writeToCsv(\"divisions.csv\", \"division\", divisions)\n",
    "writeToCsv(\"groups.csv\", \"group\", groups)\n",
    "writeToCsv(\"classes.csv\", \"class\", classes)\n"
   ]
  }
 ],
 "metadata": {
  "language_info": {
   "codemirror_mode": {
    "name": "ipython",
    "version": 3
   },
   "file_extension": ".py",
   "mimetype": "text/x-python",
   "name": "python",
   "nbconvert_exporter": "python",
   "pygments_lexer": "ipython3",
   "version": "3.7.4-final"
  },
  "orig_nbformat": 2,
  "kernelspec": {
   "name": "python3",
   "display_name": "Python 3"
  }
 },
 "nbformat": 4,
 "nbformat_minor": 2
}