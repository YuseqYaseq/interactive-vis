{
 "cells": [
  {
   "cell_type": "markdown",
   "metadata": {},
   "source": [
    "## Wizualizacja danych: Projekt 2\n",
    "## Jakie cechy dobrze różnicują firmy, które kontynuują działalność gospodarczą w okresie 12 miesięcy od tych, które działalności nie kontynuują?\n",
    "[zmienna Target]"
   ]
  },
  {
   "cell_type": "code",
   "execution_count": 25,
   "metadata": {},
   "outputs": [],
   "source": [
    "import pandas as pd\n",
    "import numpy as np\n",
    "import matplotlib.pyplot as plt; plt.style.use(\"fivethirtyeight\")\n",
    "import seaborn as sns\n",
    "\n",
    "from sklearn.model_selection import train_test_split\n",
    "\n",
    "from sklearn.preprocessing import OneHotEncoder, MinMaxScaler\n",
    "from sklearn.impute import SimpleImputer\n",
    "from sklearn.compose import ColumnTransformer\n",
    "\n",
    "from sklearn.linear_model import LogisticRegression\n",
    "\n",
    "from sklearn.pipeline import Pipeline\n",
    "\n",
    "from joblib import dump, load\n",
    "\n",
    "import sys; sys.path.insert(0, '..')\n",
    "from utils import evaluate\n",
    "\n",
    "RANDOM_SEED = 42\n",
    "np.random.seed(RANDOM_SEED)"
   ]
  },
  {
   "cell_type": "code",
   "execution_count": 26,
   "metadata": {},
   "outputs": [
    {
     "name": "stdout",
     "output_type": "stream",
     "text": [
      "(100000, 30)\n"
     ]
    },
    {
     "data": {
      "text/html": [
       "<div>\n",
       "<style scoped>\n",
       "    .dataframe tbody tr th:only-of-type {\n",
       "        vertical-align: middle;\n",
       "    }\n",
       "\n",
       "    .dataframe tbody tr th {\n",
       "        vertical-align: top;\n",
       "    }\n",
       "\n",
       "    .dataframe thead th {\n",
       "        text-align: right;\n",
       "    }\n",
       "</style>\n",
       "<table border=\"1\" class=\"dataframe\">\n",
       "  <thead>\n",
       "    <tr style=\"text-align: right;\">\n",
       "      <th></th>\n",
       "      <th>RandomDate</th>\n",
       "      <th>MonthOfStartingOfTheBusiness</th>\n",
       "      <th>QuarterOfStartingOfTheBusiness</th>\n",
       "      <th>MainAddressVoivodeship</th>\n",
       "      <th>MainAddressCounty</th>\n",
       "      <th>MainAddressTERC</th>\n",
       "      <th>CorrespondenceAddressVoivodeship</th>\n",
       "      <th>CorrespondenceAddressCounty</th>\n",
       "      <th>CorrespondenceAddressTERC</th>\n",
       "      <th>MainAndCorrespondenceAreTheSame</th>\n",
       "      <th>...</th>\n",
       "      <th>HasPolishCitizenship</th>\n",
       "      <th>ShareholderInOtherCompanies</th>\n",
       "      <th>PKDMainSection</th>\n",
       "      <th>PKDMainDivision</th>\n",
       "      <th>PKDMainGroup</th>\n",
       "      <th>PKDMainClass</th>\n",
       "      <th>NoOfUniquePKDSections</th>\n",
       "      <th>NoOfUniquePKDDivsions</th>\n",
       "      <th>NoOfUniquePKDGroups</th>\n",
       "      <th>NoOfUniquePKDClasses</th>\n",
       "    </tr>\n",
       "  </thead>\n",
       "  <tbody>\n",
       "    <tr>\n",
       "      <th>1100039</th>\n",
       "      <td>2018-04-01</td>\n",
       "      <td>December</td>\n",
       "      <td>4</td>\n",
       "      <td>WIELKOPOLSKIE</td>\n",
       "      <td>RAWICKI</td>\n",
       "      <td>3022035.0</td>\n",
       "      <td>WIELKOPOLSKIE</td>\n",
       "      <td>RAWICKI</td>\n",
       "      <td>3022035.0</td>\n",
       "      <td>True</td>\n",
       "      <td>...</td>\n",
       "      <td>True</td>\n",
       "      <td>False</td>\n",
       "      <td>C</td>\n",
       "      <td>33.0</td>\n",
       "      <td>331.0</td>\n",
       "      <td>3312.0</td>\n",
       "      <td>4</td>\n",
       "      <td>6</td>\n",
       "      <td>8</td>\n",
       "      <td>9</td>\n",
       "    </tr>\n",
       "    <tr>\n",
       "      <th>22541</th>\n",
       "      <td>2018-06-07</td>\n",
       "      <td>February</td>\n",
       "      <td>1</td>\n",
       "      <td>MAZOWIECKIE</td>\n",
       "      <td>WARSZAWA</td>\n",
       "      <td>1465158.0</td>\n",
       "      <td>MAZOWIECKIE</td>\n",
       "      <td>WARSZAWA</td>\n",
       "      <td>1465158.0</td>\n",
       "      <td>True</td>\n",
       "      <td>...</td>\n",
       "      <td>True</td>\n",
       "      <td>False</td>\n",
       "      <td>P</td>\n",
       "      <td>85.0</td>\n",
       "      <td>855.0</td>\n",
       "      <td>8553.0</td>\n",
       "      <td>1</td>\n",
       "      <td>1</td>\n",
       "      <td>1</td>\n",
       "      <td>1</td>\n",
       "    </tr>\n",
       "    <tr>\n",
       "      <th>1670697</th>\n",
       "      <td>2018-04-01</td>\n",
       "      <td>January</td>\n",
       "      <td>1</td>\n",
       "      <td>PODKARPACKIE</td>\n",
       "      <td>STRZYżOWSKI</td>\n",
       "      <td>1819044.0</td>\n",
       "      <td>NaN</td>\n",
       "      <td>NaN</td>\n",
       "      <td>NaN</td>\n",
       "      <td>False</td>\n",
       "      <td>...</td>\n",
       "      <td>True</td>\n",
       "      <td>False</td>\n",
       "      <td>G</td>\n",
       "      <td>45.0</td>\n",
       "      <td>452.0</td>\n",
       "      <td>4520.0</td>\n",
       "      <td>1</td>\n",
       "      <td>1</td>\n",
       "      <td>1</td>\n",
       "      <td>1</td>\n",
       "    </tr>\n",
       "    <tr>\n",
       "      <th>430173</th>\n",
       "      <td>2018-08-23</td>\n",
       "      <td>May</td>\n",
       "      <td>2</td>\n",
       "      <td>WARMIŃSKO-MAZURSKIE</td>\n",
       "      <td>ELBLąG</td>\n",
       "      <td>2861011.0</td>\n",
       "      <td>WARMIŃSKO-MAZURSKIE</td>\n",
       "      <td>ELBLąG</td>\n",
       "      <td>2861011.0</td>\n",
       "      <td>True</td>\n",
       "      <td>...</td>\n",
       "      <td>True</td>\n",
       "      <td>False</td>\n",
       "      <td>Q</td>\n",
       "      <td>86.0</td>\n",
       "      <td>869.0</td>\n",
       "      <td>8690.0</td>\n",
       "      <td>1</td>\n",
       "      <td>1</td>\n",
       "      <td>1</td>\n",
       "      <td>1</td>\n",
       "    </tr>\n",
       "    <tr>\n",
       "      <th>231336</th>\n",
       "      <td>2018-04-21</td>\n",
       "      <td>September</td>\n",
       "      <td>3</td>\n",
       "      <td>LUBELSKIE</td>\n",
       "      <td>BIALSKI</td>\n",
       "      <td>601102.0</td>\n",
       "      <td>LUBELSKIE</td>\n",
       "      <td>BIALSKI</td>\n",
       "      <td>601102.0</td>\n",
       "      <td>True</td>\n",
       "      <td>...</td>\n",
       "      <td>True</td>\n",
       "      <td>False</td>\n",
       "      <td>G</td>\n",
       "      <td>47.0</td>\n",
       "      <td>475.0</td>\n",
       "      <td>4752.0</td>\n",
       "      <td>6</td>\n",
       "      <td>9</td>\n",
       "      <td>15</td>\n",
       "      <td>16</td>\n",
       "    </tr>\n",
       "  </tbody>\n",
       "</table>\n",
       "<p>5 rows × 29 columns</p>\n",
       "</div>"
      ],
      "text/plain": [
       "         RandomDate MonthOfStartingOfTheBusiness  \\\n",
       "1100039  2018-04-01                     December   \n",
       "22541    2018-06-07                     February   \n",
       "1670697  2018-04-01                      January   \n",
       "430173   2018-08-23                          May   \n",
       "231336   2018-04-21                    September   \n",
       "\n",
       "         QuarterOfStartingOfTheBusiness MainAddressVoivodeship  \\\n",
       "1100039                               4          WIELKOPOLSKIE   \n",
       "22541                                 1            MAZOWIECKIE   \n",
       "1670697                               1           PODKARPACKIE   \n",
       "430173                                2    WARMIŃSKO-MAZURSKIE   \n",
       "231336                                3              LUBELSKIE   \n",
       "\n",
       "        MainAddressCounty  MainAddressTERC CorrespondenceAddressVoivodeship  \\\n",
       "1100039           RAWICKI        3022035.0                    WIELKOPOLSKIE   \n",
       "22541            WARSZAWA        1465158.0                      MAZOWIECKIE   \n",
       "1670697       STRZYżOWSKI        1819044.0                              NaN   \n",
       "430173             ELBLąG        2861011.0              WARMIŃSKO-MAZURSKIE   \n",
       "231336            BIALSKI         601102.0                        LUBELSKIE   \n",
       "\n",
       "        CorrespondenceAddressCounty  CorrespondenceAddressTERC  \\\n",
       "1100039                     RAWICKI                  3022035.0   \n",
       "22541                      WARSZAWA                  1465158.0   \n",
       "1670697                         NaN                        NaN   \n",
       "430173                       ELBLąG                  2861011.0   \n",
       "231336                      BIALSKI                   601102.0   \n",
       "\n",
       "         MainAndCorrespondenceAreTheSame  ...  HasPolishCitizenship  \\\n",
       "1100039                             True  ...                  True   \n",
       "22541                               True  ...                  True   \n",
       "1670697                            False  ...                  True   \n",
       "430173                              True  ...                  True   \n",
       "231336                              True  ...                  True   \n",
       "\n",
       "         ShareholderInOtherCompanies  PKDMainSection  PKDMainDivision  \\\n",
       "1100039                        False               C             33.0   \n",
       "22541                          False               P             85.0   \n",
       "1670697                        False               G             45.0   \n",
       "430173                         False               Q             86.0   \n",
       "231336                         False               G             47.0   \n",
       "\n",
       "         PKDMainGroup PKDMainClass  NoOfUniquePKDSections  \\\n",
       "1100039         331.0       3312.0                      4   \n",
       "22541           855.0       8553.0                      1   \n",
       "1670697         452.0       4520.0                      1   \n",
       "430173          869.0       8690.0                      1   \n",
       "231336          475.0       4752.0                      6   \n",
       "\n",
       "         NoOfUniquePKDDivsions NoOfUniquePKDGroups  NoOfUniquePKDClasses  \n",
       "1100039                      6                   8                     9  \n",
       "22541                        1                   1                     1  \n",
       "1670697                      1                   1                     1  \n",
       "430173                       1                   1                     1  \n",
       "231336                       9                  15                    16  \n",
       "\n",
       "[5 rows x 29 columns]"
      ]
     },
     "execution_count": 26,
     "metadata": {},
     "output_type": "execute_result"
    }
   ],
   "source": [
    "sample_size = 100_000\n",
    "data = pd.read_csv(\"../data/ceidg_data_classif.csv\").sample(sample_size)\n",
    "print(data.shape)\n",
    "\n",
    "x_train, x_test, y_train, y_test = train_test_split(data.drop(\"Target\", axis=1), data[\"Target\"], random_state=RANDOM_SEED)\n",
    "x_train.head()"
   ]
  },
  {
   "cell_type": "markdown",
   "metadata": {},
   "source": [
    "List of features with explanation:\n",
    "\n",
    "- **RandomDate**: Randomly chose date beetween 01-11-2017 and 01-11-2018 (or date of termination or suspension if continuity of the Business were stopped earlier in this period).\n",
    "- **Target**: The binary response variable indicates if continuity of the business was broken in **12 months from random date**. \n",
    "- **MonthOfStartingOfTheBusiness**: The month of registering a business in the CEIDG registry.\n",
    "- **QuarterOfStartingOfTheBusiness**: The quarter of registering a business in the CEIDG registry.\n",
    "- **MainAddressVoivodeship**.\n",
    "- **MainAddressCounty**.\n",
    "- **MainAddressTERC: Helper column.** [TERC Code](https://pl.wikipedia.org/wiki/TERC). May be used for data enhacement form other data sources (eg. GUS BDL via **[R_Package_to_API_BDL](https://github.com/statisticspoland/R_Package_to_API_BDL)**).\n",
    "- **CorrespondenceAddressVoivodeship**.\n",
    "- **CorrespondenceAddressCounty**.\n",
    "- **CorrespondenceAddressTERC: Helper column.** [TERC Code](https://pl.wikipedia.org/wiki/TERC). May be used for data enhacement form other data sources (eg. GUS BDL via **[R_Package_to_API_BDL](https://github.com/statisticspoland/R_Package_to_API_BDL)**). \n",
    "- **MainAndCorrespondenceAreTheSame**: Checking if the correspondence address and the main address are the same (with an accuracy to the street).\n",
    "- **DurationOfExistenceInMonths**: Time in months from registering of the business to **RandomDate** (results has been rounded down to the nearest integer). \n",
    "- **NoOfAdditionalPlaceOfTheBusiness**.\n",
    "- **IsPhoneNo**: Checking if the phone number has been filled in the register (filling in the field is optional).\n",
    "- **IsEmail**: Checking if the email has been filled in the register (filling in the field is optional).\n",
    "- **IsWWW**: Checking if the web address has been filled in the register (filling in the field is optional).\n",
    "- **CommunityProperty**: \n",
    "- **HasLicences**: Checking if the business is running with special permissions (eg. sale of alcohol, transportation of people).\n",
    "- **NoOfLicences**.\n",
    "- **Sex**: Variable has been created by checking the last letter of a name. If the last letter is 'a' then sex is defined as female, otherwise as male. The disadvantage of this approach is the possibility of not classifying foreigners correctly.\n",
    "- **HasPolishCitizenship**.\n",
    "- **ShareholderInOtherCompanies**.\n",
    "\n",
    "Features listed below based on [Polska Klasyfikacja Działalności](https://www.biznes.gov.pl/en/classification-pkd-code)\n",
    "\n",
    "- **PKDMainSection**.\n",
    "- **PKDMainDivision**.\n",
    "- **PKDMainGroup**.\n",
    "- **PKDMainClass**.\n",
    "- **NoOfUniquePKDSections**.\n",
    "- **NoOfUniquePKDDivsions**.\n",
    "- **NoOfUniquePKDGroups**.\n",
    "- **NoOfUniquePKDClasses**."
   ]
  },
  {
   "cell_type": "markdown",
   "metadata": {},
   "source": [
    "---\n",
    "### Data exploration"
   ]
  },
  {
   "cell_type": "code",
   "execution_count": 27,
   "metadata": {},
   "outputs": [
    {
     "name": "stdout",
     "output_type": "stream",
     "text": [
      "Percentage of companies that failed after 12 months: 17.48%\n"
     ]
    }
   ],
   "source": [
    "print(\"Percentage of companies that failed after 12 months: {:.2f}%\".format(y_train.mean()*100))"
   ]
  },
  {
   "cell_type": "code",
   "execution_count": 28,
   "metadata": {},
   "outputs": [
    {
     "data": {
      "text/plain": [
       "Index(['RandomDate', 'MonthOfStartingOfTheBusiness',\n",
       "       'QuarterOfStartingOfTheBusiness', 'MainAddressVoivodeship',\n",
       "       'MainAddressCounty', 'MainAddressTERC',\n",
       "       'CorrespondenceAddressVoivodeship', 'CorrespondenceAddressCounty',\n",
       "       'CorrespondenceAddressTERC', 'MainAndCorrespondenceAreTheSame',\n",
       "       'DurationOfExistenceInMonths', 'NoOfAdditionalPlaceOfTheBusiness',\n",
       "       'IsPhoneNo', 'IsEmail', 'IsWWW', 'CommunityProperty', 'HasLicences',\n",
       "       'NoOfLicences', 'Sex', 'HasPolishCitizenship',\n",
       "       'ShareholderInOtherCompanies', 'PKDMainSection', 'PKDMainDivision',\n",
       "       'PKDMainGroup', 'PKDMainClass', 'NoOfUniquePKDSections',\n",
       "       'NoOfUniquePKDDivsions', 'NoOfUniquePKDGroups', 'NoOfUniquePKDClasses',\n",
       "       'Target'],\n",
       "      dtype='object')"
      ]
     },
     "execution_count": 28,
     "metadata": {},
     "output_type": "execute_result"
    }
   ],
   "source": [
    "data.columns"
   ]
  },
  {
   "cell_type": "code",
   "execution_count": 29,
   "metadata": {},
   "outputs": [
    {
     "data": {
      "text/plain": [
       "290337     nie\n",
       "491136     tak\n",
       "2386061    tak\n",
       "640960     nie\n",
       "1993703      -\n",
       "          ... \n",
       "480993     tak\n",
       "859577       -\n",
       "359853     nie\n",
       "2398222    tak\n",
       "1467041    tak\n",
       "Name: CommunityProperty, Length: 100000, dtype: object"
      ]
     },
     "execution_count": 29,
     "metadata": {},
     "output_type": "execute_result"
    }
   ],
   "source": [
    "data[\"CommunityProperty\"]  # some NANs that are represented as '-'"
   ]
  },
  {
   "cell_type": "markdown",
   "metadata": {},
   "source": [
    "#### Missing values\n",
    "Strategy: fill NAs with \"unkown\" value for categorial variables. Numerical and boolean variables don't have NAs."
   ]
  },
  {
   "cell_type": "code",
   "execution_count": 30,
   "metadata": {},
   "outputs": [
    {
     "data": {
      "text/plain": [
       "RandomDate                          0.00000\n",
       "MonthOfStartingOfTheBusiness        0.00000\n",
       "QuarterOfStartingOfTheBusiness      0.00000\n",
       "MainAddressVoivodeship              0.02908\n",
       "MainAddressCounty                   0.02911\n",
       "MainAddressTERC                     0.02989\n",
       "CorrespondenceAddressVoivodeship    0.05705\n",
       "CorrespondenceAddressCounty         0.05789\n",
       "CorrespondenceAddressTERC           0.07653\n",
       "MainAndCorrespondenceAreTheSame     0.00000\n",
       "DurationOfExistenceInMonths         0.00000\n",
       "NoOfAdditionalPlaceOfTheBusiness    0.00000\n",
       "IsPhoneNo                           0.00000\n",
       "IsEmail                             0.00000\n",
       "IsWWW                               0.00000\n",
       "CommunityProperty                   0.00000\n",
       "HasLicences                         0.00000\n",
       "NoOfLicences                        0.00000\n",
       "Sex                                 0.00000\n",
       "HasPolishCitizenship                0.00000\n",
       "ShareholderInOtherCompanies         0.00000\n",
       "PKDMainSection                      0.01480\n",
       "PKDMainDivision                     0.01086\n",
       "PKDMainGroup                        0.01086\n",
       "PKDMainClass                        0.01086\n",
       "NoOfUniquePKDSections               0.00000\n",
       "NoOfUniquePKDDivsions               0.00000\n",
       "NoOfUniquePKDGroups                 0.00000\n",
       "NoOfUniquePKDClasses                0.00000\n",
       "Target                              0.00000\n",
       "dtype: float64"
      ]
     },
     "execution_count": 30,
     "metadata": {},
     "output_type": "execute_result"
    }
   ],
   "source": [
    "data.isna().mean()"
   ]
  },
  {
   "cell_type": "markdown",
   "metadata": {},
   "source": [
    "#### Types of columns"
   ]
  },
  {
   "cell_type": "code",
   "execution_count": 31,
   "metadata": {},
   "outputs": [
    {
     "data": {
      "text/plain": [
       "RandomDate                           object\n",
       "MonthOfStartingOfTheBusiness         object\n",
       "QuarterOfStartingOfTheBusiness        int64\n",
       "MainAddressVoivodeship               object\n",
       "MainAddressCounty                    object\n",
       "MainAddressTERC                     float64\n",
       "CorrespondenceAddressVoivodeship     object\n",
       "CorrespondenceAddressCounty          object\n",
       "CorrespondenceAddressTERC           float64\n",
       "MainAndCorrespondenceAreTheSame        bool\n",
       "DurationOfExistenceInMonths           int64\n",
       "NoOfAdditionalPlaceOfTheBusiness      int64\n",
       "IsPhoneNo                              bool\n",
       "IsEmail                                bool\n",
       "IsWWW                                  bool\n",
       "CommunityProperty                    object\n",
       "HasLicences                            bool\n",
       "NoOfLicences                          int64\n",
       "Sex                                  object\n",
       "HasPolishCitizenship                   bool\n",
       "ShareholderInOtherCompanies            bool\n",
       "PKDMainSection                       object\n",
       "PKDMainDivision                     float64\n",
       "PKDMainGroup                        float64\n",
       "PKDMainClass                        float64\n",
       "NoOfUniquePKDSections                 int64\n",
       "NoOfUniquePKDDivsions                 int64\n",
       "NoOfUniquePKDGroups                   int64\n",
       "NoOfUniquePKDClasses                  int64\n",
       "Target                                 bool\n",
       "dtype: object"
      ]
     },
     "execution_count": 31,
     "metadata": {},
     "output_type": "execute_result"
    }
   ],
   "source": [
    "data.dtypes"
   ]
  },
  {
   "cell_type": "code",
   "execution_count": 32,
   "metadata": {},
   "outputs": [],
   "source": [
    "categorical_variables = [\"MonthOfStartingOfTheBusiness\", \"MainAddressVoivodeship\", \"PKDMainSection\",  \"Sex\"]\n",
    "numerical_variables = [\n",
    "    \"MainAndCorrespondenceAreTheSame\", \n",
    "    \"DurationOfExistenceInMonths\", \n",
    "    \"NoOfAdditionalPlaceOfTheBusiness\",\n",
    "    \"IsPhoneNo\",\n",
    "    \"IsEmail\",\n",
    "    \"IsWWW\",\n",
    "#     \"HasLicences\",  # useless since we have NoOfLicenses\n",
    "    \"NoOfLicences\",\n",
    "    \"HasPolishCitizenship\",\n",
    "    \"ShareholderInOtherCompanies\"\n",
    "]\n",
    "\n",
    "impute_encode = Pipeline([\n",
    "    (\"impute\", SimpleImputer(strategy=\"constant\", fill_value=\"unknown\")),\n",
    "    (\"one_hot_enocde\", OneHotEncoder(handle_unknown=\"ignore\"))\n",
    "])\n",
    "\n",
    "scale = Pipeline([\n",
    "    (\"min_max_scale\", MinMaxScaler())\n",
    "])\n",
    "\n",
    "column_transformer = ColumnTransformer([\n",
    "    (\"one_hot_encoder\", impute_encode , categorical_variables),\n",
    "    (\"numerical_variables\", scale, numerical_variables)\n",
    "    ])\n",
    "\n",
    "\n",
    "pipeline = Pipeline([\n",
    "    (\"get_features\", column_transformer),\n",
    "    (\"classifier\", LogisticRegression(max_iter=1000, tol=1e-4, C=100))\n",
    "])"
   ]
  },
  {
   "cell_type": "code",
   "execution_count": 33,
   "metadata": {},
   "outputs": [],
   "source": [
    "pipeline.fit(x_train, y_train);"
   ]
  },
  {
   "cell_type": "code",
   "execution_count": 34,
   "metadata": {},
   "outputs": [
    {
     "name": "stdout",
     "output_type": "stream",
     "text": [
      "Accuracy: 82.28\n",
      "F-1 score: 0.0000\n"
     ]
    },
    {
     "data": {
      "image/png": "[encoded data removed]",
      "text/plain": [
       "<Figure size 432x288 with 1 Axes>"
      ]
     },
     "metadata": {},
     "output_type": "display_data"
    },
    {
     "data": {
      "text/plain": [
       "0.6711591392455708"
      ]
     },
     "execution_count": 34,
     "metadata": {},
     "output_type": "execute_result"
    }
   ],
   "source": [
    "evaluate(pipeline, x_test, y_test)"
   ]
  },
  {
   "cell_type": "markdown",
   "metadata": {},
   "source": [
    "---\n",
    "#### What features are important?"
   ]
  },
  {
   "cell_type": "code",
   "execution_count": 11,
   "metadata": {},
   "outputs": [],
   "source": [
    "def get_transformer_feature_names(columnTransformer):\n",
    "\n",
    "    output_features = []\n",
    "\n",
    "    for name, pipe, features in columnTransformer.transformers_:\n",
    "        if name != 'remainder':\n",
    "            for i in pipe:\n",
    "                trans_features = []\n",
    "                if hasattr(i, 'categories_'):\n",
    "                    trans_features.extend(i.get_feature_names(features))\n",
    "                else:\n",
    "                    trans_features = features\n",
    "            output_features.extend(trans_features)\n",
    "\n",
    "    return output_features"
   ]
  },
  {
   "cell_type": "code",
   "execution_count": 12,
   "metadata": {},
   "outputs": [],
   "source": [
    "feature_names = get_transformer_feature_names(pipeline[\"get_features\"]);\n",
    "feature_scores = pipeline[\"classifier\"].coef_[0]"
   ]
  },
  {
   "cell_type": "code",
   "execution_count": 13,
   "metadata": {},
   "outputs": [],
   "source": [
    "top = 15\n",
    "name_score = list(zip(feature_names, feature_scores))\n",
    "name_score.sort(key=lambda t: abs(t[1]), reverse=True)\n",
    "top_name_scores = name_score[:top]\n",
    "top_names, top_scores = zip(*top_name_scores)"
   ]
  },
  {
   "cell_type": "code",
   "execution_count": 14,
   "metadata": {},
   "outputs": [
    {
     "data": {
      "text/plain": [
       "[('NoOfLicences', -46.08158318531363),\n",
       " ('NoOfAdditionalPlaceOfTheBusiness', -37.29573160227897),\n",
       " ('MainAddressVoivodeship_ŚWIęTOKRZYSKIE', -2.580859184501486),\n",
       " ('MainAddressVoivodeship_ŚLąSKIE', -2.2193619002631992),\n",
       " ('DurationOfExistenceInMonths', -1.329404180706867),\n",
       " ('ShareholderInOtherCompanies', -1.0365881626450102),\n",
       " ('PKDMainSection_Q', -0.8481276740351659),\n",
       " ('MainAddressVoivodeship_ŚWIETORZYSKIE', -0.8202613127606648),\n",
       " ('PKDMainSection_J', -0.6358491780141478),\n",
       " ('PKDMainSection_E', 0.5970174564798026),\n",
       " ('Sex_M', -0.5455513703251268),\n",
       " ('MainAddressVoivodeship_WARMIńSKO-MAZURSKIE', 0.5362510374327996),\n",
       " ('PKDMainSection_B', 0.47302999069223906),\n",
       " ('PKDMainSection_S', -0.43323671570215105),\n",
       " ('PKDMainSection_M', -0.4092187912587819)]"
      ]
     },
     "execution_count": 14,
     "metadata": {},
     "output_type": "execute_result"
    }
   ],
   "source": [
    "top_name_scores"
   ]
  },
  {
   "cell_type": "code",
   "execution_count": 15,
   "metadata": {},
   "outputs": [
    {
     "data": {
      "text/plain": [
       "<BarContainer object of 15 artists>"
      ]
     },
     "execution_count": 15,
     "metadata": {},
     "output_type": "execute_result"
    },
    {
     "data": {
      "image/png": "[encoded data removed]",
      "text/plain": [
       "<Figure size 432x288 with 1 Axes>"
      ]
     },
     "metadata": {},
     "output_type": "display_data"
    }
   ],
   "source": [
    "f, ax = plt.subplots()\n",
    "plt.barh(np.arange(len(top_names)), top_scores, tick_label=top_names)"
   ]
  },
  {
   "cell_type": "markdown",
   "metadata": {},
   "source": [
    "---\n",
    "#### Saving pipeline and predictions"
   ]
  },
  {
   "cell_type": "code",
   "execution_count": 16,
   "metadata": {},
   "outputs": [
    {
     "data": {
      "text/plain": [
       "['../models/lr.joblib']"
      ]
     },
     "execution_count": 16,
     "metadata": {},
     "output_type": "execute_result"
    }
   ],
   "source": [
    "dump(pipeline, '../models/lr.joblib')"
   ]
  },
  {
   "cell_type": "code",
   "execution_count": 17,
   "metadata": {},
   "outputs": [],
   "source": [
    "predicted_target = pipeline.predict(x_test)\n",
    "predicted_proba = pipeline.predict_proba(x_test)[:, 1]"
   ]
  },
  {
   "cell_type": "code",
   "execution_count": 18,
   "metadata": {},
   "outputs": [],
   "source": [
    "x_test[\"PredictedTarget\"] = predicted_target\n",
    "x_test[\"PredictedProba\"] = predicted_proba\n",
    "x_test[\"Target\"] = y_test\n",
    "x_test.to_csv(\"../models/x_test_lr.csv\", index=False)"
   ]
  },
  {
   "cell_type": "code",
   "execution_count": 20,
   "metadata": {},
   "outputs": [
    {
     "data": {
      "text/html": [
       "<div>\n",
       "<style scoped>\n",
       "    .dataframe tbody tr th:only-of-type {\n",
       "        vertical-align: middle;\n",
       "    }\n",
       "\n",
       "    .dataframe tbody tr th {\n",
       "        vertical-align: top;\n",
       "    }\n",
       "\n",
       "    .dataframe thead th {\n",
       "        text-align: right;\n",
       "    }\n",
       "</style>\n",
       "<table border=\"1\" class=\"dataframe\">\n",
       "  <thead>\n",
       "    <tr style=\"text-align: right;\">\n",
       "      <th></th>\n",
       "      <th>RandomDate</th>\n",
       "      <th>MonthOfStartingOfTheBusiness</th>\n",
       "      <th>QuarterOfStartingOfTheBusiness</th>\n",
       "      <th>MainAddressVoivodeship</th>\n",
       "      <th>MainAddressCounty</th>\n",
       "      <th>MainAddressTERC</th>\n",
       "      <th>CorrespondenceAddressVoivodeship</th>\n",
       "      <th>CorrespondenceAddressCounty</th>\n",
       "      <th>CorrespondenceAddressTERC</th>\n",
       "      <th>MainAndCorrespondenceAreTheSame</th>\n",
       "      <th>...</th>\n",
       "      <th>PKDMainDivision</th>\n",
       "      <th>PKDMainGroup</th>\n",
       "      <th>PKDMainClass</th>\n",
       "      <th>NoOfUniquePKDSections</th>\n",
       "      <th>NoOfUniquePKDDivsions</th>\n",
       "      <th>NoOfUniquePKDGroups</th>\n",
       "      <th>NoOfUniquePKDClasses</th>\n",
       "      <th>PredictedTarget</th>\n",
       "      <th>PredictedProba</th>\n",
       "      <th>Target</th>\n",
       "    </tr>\n",
       "  </thead>\n",
       "  <tbody>\n",
       "    <tr>\n",
       "      <th>0</th>\n",
       "      <td>2018-09-20</td>\n",
       "      <td>April</td>\n",
       "      <td>2</td>\n",
       "      <td>POMORSKIE</td>\n",
       "      <td>WEJHEROWSKI</td>\n",
       "      <td>2215092.0</td>\n",
       "      <td>POMORSKIE</td>\n",
       "      <td>WEJHEROWSKI</td>\n",
       "      <td>2215092.0</td>\n",
       "      <td>True</td>\n",
       "      <td>...</td>\n",
       "      <td>23.0</td>\n",
       "      <td>237.0</td>\n",
       "      <td>2370.0</td>\n",
       "      <td>6</td>\n",
       "      <td>7</td>\n",
       "      <td>13</td>\n",
       "      <td>15</td>\n",
       "      <td>False</td>\n",
       "      <td>0.183406</td>\n",
       "      <td>False</td>\n",
       "    </tr>\n",
       "    <tr>\n",
       "      <th>1</th>\n",
       "      <td>2018-07-25</td>\n",
       "      <td>August</td>\n",
       "      <td>3</td>\n",
       "      <td>POMORSKIE</td>\n",
       "      <td>WEJHEROWSKI</td>\n",
       "      <td>2215092.0</td>\n",
       "      <td>POMORSKIE</td>\n",
       "      <td>WEJHEROWSKI</td>\n",
       "      <td>2215092.0</td>\n",
       "      <td>True</td>\n",
       "      <td>...</td>\n",
       "      <td>69.0</td>\n",
       "      <td>691.0</td>\n",
       "      <td>6910.0</td>\n",
       "      <td>1</td>\n",
       "      <td>2</td>\n",
       "      <td>2</td>\n",
       "      <td>2</td>\n",
       "      <td>False</td>\n",
       "      <td>0.168091</td>\n",
       "      <td>False</td>\n",
       "    </tr>\n",
       "    <tr>\n",
       "      <th>2</th>\n",
       "      <td>2018-03-20</td>\n",
       "      <td>April</td>\n",
       "      <td>2</td>\n",
       "      <td>ŚWIĘTOKRZYSKIE</td>\n",
       "      <td>PIńCZOWSKI</td>\n",
       "      <td>2608045.0</td>\n",
       "      <td>ŚWIĘTOKRZYSKIE</td>\n",
       "      <td>PIńCZOWSKI</td>\n",
       "      <td>2608045.0</td>\n",
       "      <td>True</td>\n",
       "      <td>...</td>\n",
       "      <td>45.0</td>\n",
       "      <td>454.0</td>\n",
       "      <td>4540.0</td>\n",
       "      <td>1</td>\n",
       "      <td>1</td>\n",
       "      <td>1</td>\n",
       "      <td>1</td>\n",
       "      <td>False</td>\n",
       "      <td>0.330060</td>\n",
       "      <td>False</td>\n",
       "    </tr>\n",
       "    <tr>\n",
       "      <th>3</th>\n",
       "      <td>2018-07-22</td>\n",
       "      <td>December</td>\n",
       "      <td>4</td>\n",
       "      <td>ZACHODNIOPOMORSKIE</td>\n",
       "      <td>ŚWINOUJśCIE</td>\n",
       "      <td>3263011.0</td>\n",
       "      <td>NaN</td>\n",
       "      <td>NaN</td>\n",
       "      <td>NaN</td>\n",
       "      <td>False</td>\n",
       "      <td>...</td>\n",
       "      <td>68.0</td>\n",
       "      <td>681.0</td>\n",
       "      <td>6810.0</td>\n",
       "      <td>1</td>\n",
       "      <td>1</td>\n",
       "      <td>1</td>\n",
       "      <td>1</td>\n",
       "      <td>False</td>\n",
       "      <td>0.077544</td>\n",
       "      <td>True</td>\n",
       "    </tr>\n",
       "    <tr>\n",
       "      <th>4</th>\n",
       "      <td>2018-09-15</td>\n",
       "      <td>May</td>\n",
       "      <td>2</td>\n",
       "      <td>MAŁOPOLSKIE</td>\n",
       "      <td>LIMANOWSKI</td>\n",
       "      <td>1207011.0</td>\n",
       "      <td>MAŁOPOLSKIE</td>\n",
       "      <td>LIMANOWSKI</td>\n",
       "      <td>1207011.0</td>\n",
       "      <td>True</td>\n",
       "      <td>...</td>\n",
       "      <td>96.0</td>\n",
       "      <td>960.0</td>\n",
       "      <td>9602.0</td>\n",
       "      <td>3</td>\n",
       "      <td>3</td>\n",
       "      <td>4</td>\n",
       "      <td>6</td>\n",
       "      <td>False</td>\n",
       "      <td>0.064186</td>\n",
       "      <td>False</td>\n",
       "    </tr>\n",
       "  </tbody>\n",
       "</table>\n",
       "<p>5 rows × 32 columns</p>\n",
       "</div>"
      ],
      "text/plain": [
       "   RandomDate MonthOfStartingOfTheBusiness  QuarterOfStartingOfTheBusiness  \\\n",
       "0  2018-09-20                        April                               2   \n",
       "1  2018-07-25                       August                               3   \n",
       "2  2018-03-20                        April                               2   \n",
       "3  2018-07-22                     December                               4   \n",
       "4  2018-09-15                          May                               2   \n",
       "\n",
       "  MainAddressVoivodeship MainAddressCounty  MainAddressTERC  \\\n",
       "0              POMORSKIE       WEJHEROWSKI        2215092.0   \n",
       "1              POMORSKIE       WEJHEROWSKI        2215092.0   \n",
       "2         ŚWIĘTOKRZYSKIE        PIńCZOWSKI        2608045.0   \n",
       "3     ZACHODNIOPOMORSKIE       ŚWINOUJśCIE        3263011.0   \n",
       "4            MAŁOPOLSKIE        LIMANOWSKI        1207011.0   \n",
       "\n",
       "  CorrespondenceAddressVoivodeship CorrespondenceAddressCounty  \\\n",
       "0                        POMORSKIE                 WEJHEROWSKI   \n",
       "1                        POMORSKIE                 WEJHEROWSKI   \n",
       "2                   ŚWIĘTOKRZYSKIE                  PIńCZOWSKI   \n",
       "3                              NaN                         NaN   \n",
       "4                      MAŁOPOLSKIE                  LIMANOWSKI   \n",
       "\n",
       "   CorrespondenceAddressTERC  MainAndCorrespondenceAreTheSame  ...  \\\n",
       "0                  2215092.0                             True  ...   \n",
       "1                  2215092.0                             True  ...   \n",
       "2                  2608045.0                             True  ...   \n",
       "3                        NaN                            False  ...   \n",
       "4                  1207011.0                             True  ...   \n",
       "\n",
       "   PKDMainDivision  PKDMainGroup  PKDMainClass  NoOfUniquePKDSections  \\\n",
       "0             23.0         237.0        2370.0                      6   \n",
       "1             69.0         691.0        6910.0                      1   \n",
       "2             45.0         454.0        4540.0                      1   \n",
       "3             68.0         681.0        6810.0                      1   \n",
       "4             96.0         960.0        9602.0                      3   \n",
       "\n",
       "   NoOfUniquePKDDivsions NoOfUniquePKDGroups  NoOfUniquePKDClasses  \\\n",
       "0                      7                  13                    15   \n",
       "1                      2                   2                     2   \n",
       "2                      1                   1                     1   \n",
       "3                      1                   1                     1   \n",
       "4                      3                   4                     6   \n",
       "\n",
       "   PredictedTarget PredictedProba  Target  \n",
       "0            False       0.183406   False  \n",
       "1            False       0.168091   False  \n",
       "2            False       0.330060   False  \n",
       "3            False       0.077544    True  \n",
       "4            False       0.064186   False  \n",
       "\n",
       "[5 rows x 32 columns]"
      ]
     },
     "execution_count": 20,
     "metadata": {},
     "output_type": "execute_result"
    }
   ],
   "source": [
    "pd.read_csv(\"../models/x_test_lr.csv\").head()"
   ]
  },
  {
   "cell_type": "code",
   "execution_count": 35,
   "metadata": {},
   "outputs": [
    {
     "data": {
      "text/plain": [
       "<sklearn.metrics._plot.precision_recall_curve.PrecisionRecallDisplay at 0x7f89002da390>"
      ]
     },
     "execution_count": 35,
     "metadata": {},
     "output_type": "execute_result"
    },
    {
     "data": {
      "image/png": "[encoded data removed]",
      "text/plain": [
       "<Figure size 432x288 with 1 Axes>"
      ]
     },
     "metadata": {},
     "output_type": "display_data"
    }
   ],
   "source": [
    "from sklearn.metrics import plot_precision_recall_curve\n",
    "plot_precision_recall_curve(pipeline, x_test, y_test)"
   ]
  }
 ],
 "metadata": {
  "kernelspec": {
   "display_name": "Python 3",
   "language": "python",
   "name": "python3"
  },
  "language_info": {
   "codemirror_mode": {
    "name": "ipython",
    "version": 3
   },
   "file_extension": ".py",
   "mimetype": "text/x-python",
   "name": "python",
   "nbconvert_exporter": "python",
   "pygments_lexer": "ipython3",
   "version": "3.6.9"
  }
 },
 "nbformat": 4,
 "nbformat_minor": 4
}
