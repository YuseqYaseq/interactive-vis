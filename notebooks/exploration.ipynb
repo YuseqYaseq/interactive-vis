{
 "cells": [
  {
   "cell_type": "markdown",
   "metadata": {},
   "source": [
    "## Wizualizacja danych: Projekt 2\n",
    "## Jakie cechy dobrze różnicują firmy, które kontynuują działalność gospodarczą w okresie 12 miesięcy od tych, które działalności nie kontynuują?\n",
    "[zmienna Target]"
   ]
  },
  {
   "cell_type": "code",
   "execution_count": 62,
   "metadata": {},
   "outputs": [],
   "source": [
    "import pandas as pd\n",
    "import numpy as np\n",
    "import matplotlib.pyplot as plt; plt.style.use(\"fivethirtyeight\")\n",
    "import seaborn as sns\n",
    "\n",
    "from sklearn.model_selection import train_test_split\n",
    "\n",
    "from sklearn.preprocessing import OneHotEncoder, MinMaxScaler\n",
    "from sklearn.impute import SimpleImputer\n",
    "from sklearn.compose import ColumnTransformer\n",
    "\n",
    "from sklearn.linear_model import LogisticRegression\n",
    "\n",
    "from sklearn.pipeline import Pipeline\n",
    "\n",
    "import sys; sys.path.insert(0, '..')\n",
    "from utils import evaluate\n",
    "\n",
    "RANDOM_SEED = 42\n",
    "np.random.seed(RANDOM_SEED)"
   ]
  },
  {
   "cell_type": "code",
   "execution_count": 55,
   "metadata": {},
   "outputs": [
    {
     "name": "stdout",
     "output_type": "stream",
     "text": [
      "(2401055, 30)\n"
     ]
    },
    {
     "data": {
      "text/html": [
       "<div>\n",
       "<style scoped>\n",
       "    .dataframe tbody tr th:only-of-type {\n",
       "        vertical-align: middle;\n",
       "    }\n",
       "\n",
       "    .dataframe tbody tr th {\n",
       "        vertical-align: top;\n",
       "    }\n",
       "\n",
       "    .dataframe thead th {\n",
       "        text-align: right;\n",
       "    }\n",
       "</style>\n",
       "<table border=\"1\" class=\"dataframe\">\n",
       "  <thead>\n",
       "    <tr style=\"text-align: right;\">\n",
       "      <th></th>\n",
       "      <th>RandomDate</th>\n",
       "      <th>MonthOfStartingOfTheBusiness</th>\n",
       "      <th>QuarterOfStartingOfTheBusiness</th>\n",
       "      <th>MainAddressVoivodeship</th>\n",
       "      <th>MainAddressCounty</th>\n",
       "      <th>MainAddressTERC</th>\n",
       "      <th>CorrespondenceAddressVoivodeship</th>\n",
       "      <th>CorrespondenceAddressCounty</th>\n",
       "      <th>CorrespondenceAddressTERC</th>\n",
       "      <th>MainAndCorrespondenceAreTheSame</th>\n",
       "      <th>...</th>\n",
       "      <th>HasPolishCitizenship</th>\n",
       "      <th>ShareholderInOtherCompanies</th>\n",
       "      <th>PKDMainSection</th>\n",
       "      <th>PKDMainDivision</th>\n",
       "      <th>PKDMainGroup</th>\n",
       "      <th>PKDMainClass</th>\n",
       "      <th>NoOfUniquePKDSections</th>\n",
       "      <th>NoOfUniquePKDDivsions</th>\n",
       "      <th>NoOfUniquePKDGroups</th>\n",
       "      <th>NoOfUniquePKDClasses</th>\n",
       "    </tr>\n",
       "  </thead>\n",
       "  <tbody>\n",
       "    <tr>\n",
       "      <th>1945399</th>\n",
       "      <td>2018-06-01</td>\n",
       "      <td>January</td>\n",
       "      <td>1</td>\n",
       "      <td>KUJAWSKO-POMORSKIE</td>\n",
       "      <td>GRUDZIąDZ</td>\n",
       "      <td>462011.0</td>\n",
       "      <td>KUJAWSKO-POMORSKIE</td>\n",
       "      <td>GRUDZIąDZ</td>\n",
       "      <td>462011.0</td>\n",
       "      <td>True</td>\n",
       "      <td>...</td>\n",
       "      <td>True</td>\n",
       "      <td>False</td>\n",
       "      <td>E</td>\n",
       "      <td>38.0</td>\n",
       "      <td>383.0</td>\n",
       "      <td>3832.0</td>\n",
       "      <td>5</td>\n",
       "      <td>8</td>\n",
       "      <td>8</td>\n",
       "      <td>10</td>\n",
       "    </tr>\n",
       "    <tr>\n",
       "      <th>365626</th>\n",
       "      <td>2018-09-29</td>\n",
       "      <td>February</td>\n",
       "      <td>1</td>\n",
       "      <td>LUBELSKIE</td>\n",
       "      <td>CHEłM</td>\n",
       "      <td>662011.0</td>\n",
       "      <td>LUBELSKIE</td>\n",
       "      <td>CHEłM</td>\n",
       "      <td>662011.0</td>\n",
       "      <td>True</td>\n",
       "      <td>...</td>\n",
       "      <td>True</td>\n",
       "      <td>False</td>\n",
       "      <td>G</td>\n",
       "      <td>45.0</td>\n",
       "      <td>451.0</td>\n",
       "      <td>4511.0</td>\n",
       "      <td>1</td>\n",
       "      <td>1</td>\n",
       "      <td>1</td>\n",
       "      <td>1</td>\n",
       "    </tr>\n",
       "    <tr>\n",
       "      <th>592516</th>\n",
       "      <td>2017-12-04</td>\n",
       "      <td>May</td>\n",
       "      <td>2</td>\n",
       "      <td>POMORSKIE</td>\n",
       "      <td>GDAńSKI</td>\n",
       "      <td>2204011.0</td>\n",
       "      <td>POMORSKIE</td>\n",
       "      <td>GDAńSKI</td>\n",
       "      <td>2204011.0</td>\n",
       "      <td>True</td>\n",
       "      <td>...</td>\n",
       "      <td>True</td>\n",
       "      <td>False</td>\n",
       "      <td>G</td>\n",
       "      <td>47.0</td>\n",
       "      <td>472.0</td>\n",
       "      <td>4721.0</td>\n",
       "      <td>1</td>\n",
       "      <td>1</td>\n",
       "      <td>3</td>\n",
       "      <td>4</td>\n",
       "    </tr>\n",
       "    <tr>\n",
       "      <th>1081769</th>\n",
       "      <td>2018-07-04</td>\n",
       "      <td>September</td>\n",
       "      <td>3</td>\n",
       "      <td>WIELKOPOLSKIE</td>\n",
       "      <td>LESZNO</td>\n",
       "      <td>3063011.0</td>\n",
       "      <td>WIELKOPOLSKIE</td>\n",
       "      <td>LESZNO</td>\n",
       "      <td>3063011.0</td>\n",
       "      <td>True</td>\n",
       "      <td>...</td>\n",
       "      <td>True</td>\n",
       "      <td>False</td>\n",
       "      <td>G</td>\n",
       "      <td>47.0</td>\n",
       "      <td>478.0</td>\n",
       "      <td>4782.0</td>\n",
       "      <td>1</td>\n",
       "      <td>1</td>\n",
       "      <td>2</td>\n",
       "      <td>4</td>\n",
       "    </tr>\n",
       "    <tr>\n",
       "      <th>1380143</th>\n",
       "      <td>2018-03-23</td>\n",
       "      <td>May</td>\n",
       "      <td>2</td>\n",
       "      <td>MAZOWIECKIE</td>\n",
       "      <td>OSTROłęCKI</td>\n",
       "      <td>1415085.0</td>\n",
       "      <td>MAZOWIECKIE</td>\n",
       "      <td>OSTROłęCKI</td>\n",
       "      <td>1415085.0</td>\n",
       "      <td>True</td>\n",
       "      <td>...</td>\n",
       "      <td>True</td>\n",
       "      <td>False</td>\n",
       "      <td>G</td>\n",
       "      <td>46.0</td>\n",
       "      <td>464.0</td>\n",
       "      <td>4642.0</td>\n",
       "      <td>1</td>\n",
       "      <td>1</td>\n",
       "      <td>1</td>\n",
       "      <td>1</td>\n",
       "    </tr>\n",
       "  </tbody>\n",
       "</table>\n",
       "<p>5 rows × 29 columns</p>\n",
       "</div>"
      ],
      "text/plain": [
       "         RandomDate MonthOfStartingOfTheBusiness  \\\n",
       "1945399  2018-06-01                      January   \n",
       "365626   2018-09-29                     February   \n",
       "592516   2017-12-04                          May   \n",
       "1081769  2018-07-04                    September   \n",
       "1380143  2018-03-23                          May   \n",
       "\n",
       "         QuarterOfStartingOfTheBusiness MainAddressVoivodeship  \\\n",
       "1945399                               1     KUJAWSKO-POMORSKIE   \n",
       "365626                                1              LUBELSKIE   \n",
       "592516                                2              POMORSKIE   \n",
       "1081769                               3          WIELKOPOLSKIE   \n",
       "1380143                               2            MAZOWIECKIE   \n",
       "\n",
       "        MainAddressCounty  MainAddressTERC CorrespondenceAddressVoivodeship  \\\n",
       "1945399         GRUDZIąDZ         462011.0               KUJAWSKO-POMORSKIE   \n",
       "365626              CHEłM         662011.0                        LUBELSKIE   \n",
       "592516            GDAńSKI        2204011.0                        POMORSKIE   \n",
       "1081769            LESZNO        3063011.0                    WIELKOPOLSKIE   \n",
       "1380143        OSTROłęCKI        1415085.0                      MAZOWIECKIE   \n",
       "\n",
       "        CorrespondenceAddressCounty  CorrespondenceAddressTERC  \\\n",
       "1945399                   GRUDZIąDZ                   462011.0   \n",
       "365626                        CHEłM                   662011.0   \n",
       "592516                      GDAńSKI                  2204011.0   \n",
       "1081769                      LESZNO                  3063011.0   \n",
       "1380143                  OSTROłęCKI                  1415085.0   \n",
       "\n",
       "         MainAndCorrespondenceAreTheSame  ...  HasPolishCitizenship  \\\n",
       "1945399                             True  ...                  True   \n",
       "365626                              True  ...                  True   \n",
       "592516                              True  ...                  True   \n",
       "1081769                             True  ...                  True   \n",
       "1380143                             True  ...                  True   \n",
       "\n",
       "         ShareholderInOtherCompanies  PKDMainSection  PKDMainDivision  \\\n",
       "1945399                        False               E             38.0   \n",
       "365626                         False               G             45.0   \n",
       "592516                         False               G             47.0   \n",
       "1081769                        False               G             47.0   \n",
       "1380143                        False               G             46.0   \n",
       "\n",
       "         PKDMainGroup PKDMainClass  NoOfUniquePKDSections  \\\n",
       "1945399         383.0       3832.0                      5   \n",
       "365626          451.0       4511.0                      1   \n",
       "592516          472.0       4721.0                      1   \n",
       "1081769         478.0       4782.0                      1   \n",
       "1380143         464.0       4642.0                      1   \n",
       "\n",
       "         NoOfUniquePKDDivsions NoOfUniquePKDGroups  NoOfUniquePKDClasses  \n",
       "1945399                      8                   8                    10  \n",
       "365626                       1                   1                     1  \n",
       "592516                       1                   3                     4  \n",
       "1081769                      1                   2                     4  \n",
       "1380143                      1                   1                     1  \n",
       "\n",
       "[5 rows x 29 columns]"
      ]
     },
     "execution_count": 55,
     "metadata": {},
     "output_type": "execute_result"
    }
   ],
   "source": [
    "data = pd.read_csv(\"../data/ceidg_data_classif.csv\")\n",
    "print(data.shape)\n",
    "\n",
    "x_train, x_test, y_train, y_test = train_test_split(data.drop(\"Target\", axis=1), data[\"Target\"], random_state=RANDOM_SEED)\n",
    "x_train.head()"
   ]
  },
  {
   "cell_type": "markdown",
   "metadata": {},
   "source": [
    "List of features with explanation:\n",
    "\n",
    "- **RandomDate**: Randomly chose date beetween 01-11-2017 and 01-11-2018 (or date of termination or suspension if continuity of the Business were stopped earlier in this period).\n",
    "- **Target**: The binary response variable indicates if continuity of the business was broken in **12 months from random date**. \n",
    "- **MonthOfStartingOfTheBusiness**: The month of registering a business in the CEIDG registry.\n",
    "- **QuarterOfStartingOfTheBusiness**: The quarter of registering a business in the CEIDG registry.\n",
    "- **MainAddressVoivodeship**.\n",
    "- **MainAddressCounty**.\n",
    "- **MainAddressTERC: Helper column.** [TERC Code](https://pl.wikipedia.org/wiki/TERC). May be used for data enhacement form other data sources (eg. GUS BDL via **[R_Package_to_API_BDL](https://github.com/statisticspoland/R_Package_to_API_BDL)**).\n",
    "- **CorrespondenceAddressVoivodeship**.\n",
    "- **CorrespondenceAddressCounty**.\n",
    "- **CorrespondenceAddressTERC: Helper column.** [TERC Code](https://pl.wikipedia.org/wiki/TERC). May be used for data enhacement form other data sources (eg. GUS BDL via **[R_Package_to_API_BDL](https://github.com/statisticspoland/R_Package_to_API_BDL)**). \n",
    "- **MainAndCorrespondenceAreTheSame**: Checking if the correspondence address and the main address are the same (with an accuracy to the street).\n",
    "- **DurationOfExistenceInMonths**: Time in months from registering of the business to **RandomDate** (results has been rounded down to the nearest integer). \n",
    "- **NoOfAdditionalPlaceOfTheBusiness**.\n",
    "- **IsPhoneNo**: Checking if the phone number has been filled in the register (filling in the field is optional).\n",
    "- **IsEmail**: Checking if the email has been filled in the register (filling in the field is optional).\n",
    "- **IsWWW**: Checking if the web address has been filled in the register (filling in the field is optional).\n",
    "- **CommunityProperty**: \n",
    "- **HasLicences**: Checking if the business is running with special permissions (eg. sale of alcohol, transportation of people).\n",
    "- **NoOfLicences**.\n",
    "- **Sex**: Variable has been created by checking the last letter of a name. If the last letter is 'a' then sex is defined as female, otherwise as male. The disadvantage of this approach is the possibility of not classifying foreigners correctly.\n",
    "- **HasPolishCitizenship**.\n",
    "- **ShareholderInOtherCompanies**.\n",
    "\n",
    "Features listed below based on [Polska Klasyfikacja Działalności](https://www.biznes.gov.pl/en/classification-pkd-code)\n",
    "\n",
    "- **PKDMainSection**.\n",
    "- **PKDMainDivision**.\n",
    "- **PKDMainGroup**.\n",
    "- **PKDMainClass**.\n",
    "- **NoOfUniquePKDSections**.\n",
    "- **NoOfUniquePKDDivsions**.\n",
    "- **NoOfUniquePKDGroups**.\n",
    "- **NoOfUniquePKDClasses**."
   ]
  },
  {
   "cell_type": "markdown",
   "metadata": {},
   "source": [
    "---\n",
    "### Data exploration"
   ]
  },
  {
   "cell_type": "code",
   "execution_count": 83,
   "metadata": {},
   "outputs": [
    {
     "name": "stdout",
     "output_type": "stream",
     "text": [
      "Percentage of companies that failed after 12 months: 17.22%\n"
     ]
    }
   ],
   "source": [
    "print(\"Percentage of companies that failed after 12 months: {:.2f}%\".format(y_train.mean()*100))"
   ]
  },
  {
   "cell_type": "code",
   "execution_count": 84,
   "metadata": {},
   "outputs": [
    {
     "data": {
      "text/plain": [
       "Index(['RandomDate', 'MonthOfStartingOfTheBusiness',\n",
       "       'QuarterOfStartingOfTheBusiness', 'MainAddressVoivodeship',\n",
       "       'MainAddressCounty', 'MainAddressTERC',\n",
       "       'CorrespondenceAddressVoivodeship', 'CorrespondenceAddressCounty',\n",
       "       'CorrespondenceAddressTERC', 'MainAndCorrespondenceAreTheSame',\n",
       "       'DurationOfExistenceInMonths', 'NoOfAdditionalPlaceOfTheBusiness',\n",
       "       'IsPhoneNo', 'IsEmail', 'IsWWW', 'CommunityProperty', 'HasLicences',\n",
       "       'NoOfLicences', 'Sex', 'HasPolishCitizenship',\n",
       "       'ShareholderInOtherCompanies', 'PKDMainSection', 'PKDMainDivision',\n",
       "       'PKDMainGroup', 'PKDMainClass', 'NoOfUniquePKDSections',\n",
       "       'NoOfUniquePKDDivsions', 'NoOfUniquePKDGroups', 'NoOfUniquePKDClasses',\n",
       "       'Target'],\n",
       "      dtype='object')"
      ]
     },
     "execution_count": 84,
     "metadata": {},
     "output_type": "execute_result"
    }
   ],
   "source": [
    "data.columns"
   ]
  },
  {
   "cell_type": "code",
   "execution_count": 85,
   "metadata": {},
   "outputs": [
    {
     "data": {
      "text/plain": [
       "0            -\n",
       "1          nie\n",
       "2            -\n",
       "3          nie\n",
       "4          tak\n",
       "          ... \n",
       "2401050    nie\n",
       "2401051    tak\n",
       "2401052      -\n",
       "2401053    nie\n",
       "2401054      -\n",
       "Name: CommunityProperty, Length: 2401055, dtype: object"
      ]
     },
     "execution_count": 85,
     "metadata": {},
     "output_type": "execute_result"
    }
   ],
   "source": [
    "data[\"CommunityProperty\"]  # some NANs that are represented as '-'"
   ]
  },
  {
   "cell_type": "markdown",
   "metadata": {},
   "source": [
    "#### Missing values\n",
    "Strategy: fill NAs with \"unkown\" value for categorial variables. Numerical and boolean variables don't have NAs."
   ]
  },
  {
   "cell_type": "code",
   "execution_count": 86,
   "metadata": {},
   "outputs": [
    {
     "data": {
      "text/plain": [
       "RandomDate                          0.000000\n",
       "MonthOfStartingOfTheBusiness        0.000000\n",
       "QuarterOfStartingOfTheBusiness      0.000000\n",
       "MainAddressVoivodeship              0.029430\n",
       "MainAddressCounty                   0.029453\n",
       "MainAddressTERC                     0.030117\n",
       "CorrespondenceAddressVoivodeship    0.058200\n",
       "CorrespondenceAddressCounty         0.059082\n",
       "CorrespondenceAddressTERC           0.077754\n",
       "MainAndCorrespondenceAreTheSame     0.000000\n",
       "DurationOfExistenceInMonths         0.000000\n",
       "NoOfAdditionalPlaceOfTheBusiness    0.000000\n",
       "IsPhoneNo                           0.000000\n",
       "IsEmail                             0.000000\n",
       "IsWWW                               0.000000\n",
       "CommunityProperty                   0.000000\n",
       "HasLicences                         0.000000\n",
       "NoOfLicences                        0.000000\n",
       "Sex                                 0.000000\n",
       "HasPolishCitizenship                0.000000\n",
       "ShareholderInOtherCompanies         0.000000\n",
       "PKDMainSection                      0.015283\n",
       "PKDMainDivision                     0.011390\n",
       "PKDMainGroup                        0.011390\n",
       "PKDMainClass                        0.011390\n",
       "NoOfUniquePKDSections               0.000000\n",
       "NoOfUniquePKDDivsions               0.000000\n",
       "NoOfUniquePKDGroups                 0.000000\n",
       "NoOfUniquePKDClasses                0.000000\n",
       "Target                              0.000000\n",
       "dtype: float64"
      ]
     },
     "execution_count": 86,
     "metadata": {},
     "output_type": "execute_result"
    }
   ],
   "source": [
    "data.isna().mean()"
   ]
  },
  {
   "cell_type": "code",
   "execution_count": 87,
   "metadata": {},
   "outputs": [
    {
     "data": {
      "text/plain": [
       "RandomDate                           object\n",
       "MonthOfStartingOfTheBusiness         object\n",
       "QuarterOfStartingOfTheBusiness        int64\n",
       "MainAddressVoivodeship               object\n",
       "MainAddressCounty                    object\n",
       "MainAddressTERC                     float64\n",
       "CorrespondenceAddressVoivodeship     object\n",
       "CorrespondenceAddressCounty          object\n",
       "CorrespondenceAddressTERC           float64\n",
       "MainAndCorrespondenceAreTheSame        bool\n",
       "DurationOfExistenceInMonths           int64\n",
       "NoOfAdditionalPlaceOfTheBusiness      int64\n",
       "IsPhoneNo                              bool\n",
       "IsEmail                                bool\n",
       "IsWWW                                  bool\n",
       "CommunityProperty                    object\n",
       "HasLicences                            bool\n",
       "NoOfLicences                          int64\n",
       "Sex                                  object\n",
       "HasPolishCitizenship                   bool\n",
       "ShareholderInOtherCompanies            bool\n",
       "PKDMainSection                       object\n",
       "PKDMainDivision                     float64\n",
       "PKDMainGroup                        float64\n",
       "PKDMainClass                        float64\n",
       "NoOfUniquePKDSections                 int64\n",
       "NoOfUniquePKDDivsions                 int64\n",
       "NoOfUniquePKDGroups                   int64\n",
       "NoOfUniquePKDClasses                  int64\n",
       "Target                                 bool\n",
       "dtype: object"
      ]
     },
     "execution_count": 87,
     "metadata": {},
     "output_type": "execute_result"
    }
   ],
   "source": [
    "data.dtypes"
   ]
  },
  {
   "cell_type": "code",
   "execution_count": 88,
   "metadata": {},
   "outputs": [],
   "source": [
    "categorical_variables = [\"MonthOfStartingOfTheBusiness\", \"MainAddressVoivodeship\", \"PKDMainSection\",  \"Sex\"]\n",
    "numerical_variables = [\n",
    "    \"MainAndCorrespondenceAreTheSame\", \n",
    "    \"DurationOfExistenceInMonths\", \n",
    "    \"NoOfAdditionalPlaceOfTheBusiness\",\n",
    "    \"IsPhoneNo\",\n",
    "    \"IsEmail\",\n",
    "    \"IsWWW\",\n",
    "#     \"HasLicences\",  # useless since we have NoOfLicenses\n",
    "    \"NoOfLicences\",\n",
    "    \"HasPolishCitizenship\",\n",
    "    \"ShareholderInOtherCompanies\"\n",
    "]\n",
    "\n",
    "impute_encode = Pipeline([\n",
    "    (\"impute\", SimpleImputer(strategy=\"constant\", fill_value=\"unknown\")),\n",
    "    (\"one_hot_enocde\", OneHotEncoder(handle_unknown=\"ignore\"))\n",
    "])\n",
    "\n",
    "column_transformer = ColumnTransformer([\n",
    "    (\"one_hot_encoder\", impute_encode , categorical_variables),\n",
    "#     (\"numerical_variables\", MinMaxScaler(), numerical_variables)\n",
    "    ])\n",
    "\n",
    "\n",
    "pipeline = Pipeline([\n",
    "    (\"get_features\", column_transformer),\n",
    "    (\"predict\", LogisticRegression(max_iter=1000, tol=1e-5, C=1))\n",
    "])"
   ]
  },
  {
   "cell_type": "code",
   "execution_count": 89,
   "metadata": {},
   "outputs": [],
   "source": [
    "pipeline.fit(x_train, y_train);"
   ]
  },
  {
   "cell_type": "code",
   "execution_count": 90,
   "metadata": {},
   "outputs": [
    {
     "name": "stdout",
     "output_type": "stream",
     "text": [
      "Accuracy: 82.76\n",
      "F-1 score: 0.0000\n"
     ]
    },
    {
     "data": {
      "image/png": "[encoded data removed]",
      "text/plain": [
       "<Figure size 432x288 with 1 Axes>"
      ]
     },
     "metadata": {},
     "output_type": "display_data"
    },
    {
     "data": {
      "text/plain": [
       "0.589446523348124"
      ]
     },
     "execution_count": 90,
     "metadata": {},
     "output_type": "execute_result"
    }
   ],
   "source": [
    "evaluate(pipeline, x_test, y_test)"
   ]
  }
 ],
 "metadata": {
  "kernelspec": {
   "display_name": "Python 3",
   "language": "python",
   "name": "python3"
  },
  "language_info": {
   "codemirror_mode": {
    "name": "ipython",
    "version": 3
   },
   "file_extension": ".py",
   "mimetype": "text/x-python",
   "name": "python",
   "nbconvert_exporter": "python",
   "pygments_lexer": "ipython3",
   "version": "3.6.9"
  }
 },
 "nbformat": 4,
 "nbformat_minor": 4
}
